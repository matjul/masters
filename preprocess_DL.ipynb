{
 "cells": [
  {
   "cell_type": "code",
   "execution_count": 1,
   "id": "725a7843-371c-4c92-a274-1c7e836bf34f",
   "metadata": {},
   "outputs": [],
   "source": [
    "import pandas as pd\n",
    "import numpy as np\n",
    "import matplotlib.pyplot as plt\n",
    "from os import listdir\n",
    "import os\n",
    "import wfdb\n",
    "from scipy.signal import medfilt\n",
    "from sklearn.preprocessing import OneHotEncoder"
   ]
  },
  {
   "cell_type": "code",
   "execution_count": 2,
   "id": "37d9c873-d085-4808-b0af-7ae3fab26b78",
   "metadata": {},
   "outputs": [
    {
     "name": "stdout",
     "output_type": "stream",
     "text": [
      "/Users/vegy-math808y/Speciale/masters\n"
     ]
    }
   ],
   "source": [
    "print(os.getcwd())"
   ]
  },
  {
   "cell_type": "markdown",
   "id": "14660101-9102-45df-8448-7f37a97a238a",
   "metadata": {},
   "source": [
    "# preprocessing the AFDB dataset for deep learning algorithm"
   ]
  },
  {
   "cell_type": "code",
   "execution_count": 3,
   "id": "3dfb015c-2ced-45ca-baf7-6b38395c4379",
   "metadata": {},
   "outputs": [],
   "source": [
    "#patients = ['04043']\n",
    "\n",
    "patients = ['04015','04043','04048','04126','04746','04908',\n",
    "            '04936','05091','05121','05261','06426','06453','06995','07162',\n",
    "            '07859','07879','07910','08215','08219','08378','08405','08434',\n",
    "            '08455']\n",
    "# id '00735' and '03665' is not included since no raw ECG values (.dat file) exists "
   ]
  },
  {
   "cell_type": "code",
   "execution_count": 14,
   "id": "fd229a33-6acd-4f3f-923f-1d2bff8e0f4d",
   "metadata": {},
   "outputs": [],
   "source": [
    "df = pd.DataFrame()\n",
    "\n",
    "for patient_id in patients:\n",
    "    file_name = os.getcwd() + '/data/afdb/' + patient_id\n",
    "    annotation = wfdb.rdann(file_name, 'qrs')\n",
    "    types = annotation.symbol\n",
    "    \n",
    "    values, counts = np.unique(types, return_counts=True)\n",
    "    df1 = pd.DataFrame({'types':values, 'val':counts, 'patient_id':[patient_id]*len(counts)})\n",
    "    df = pd.concat([df, df1],axis = 0)"
   ]
  },
  {
   "cell_type": "code",
   "execution_count": null,
   "id": "ddbd9e4b-4ff9-4083-922c-bc73835d0c71",
   "metadata": {},
   "outputs": [],
   "source": []
  },
  {
   "cell_type": "markdown",
   "id": "a742bfac-c734-4f1b-8672-345fe15f30aa",
   "metadata": {
    "nbgrader": {
     "grade": false,
     "grade_id": "cell-19fa23ae88546e62",
     "locked": true,
     "schema_version": 3,
     "solution": false,
     "task": false
    }
   },
   "source": [
    "Now, we can print the number of heartbeats for each heartbeat type as shown below:"
   ]
  },
  {
   "cell_type": "code",
   "execution_count": 15,
   "id": "0f804c62-3812-4d8f-83cd-133b6797b269",
   "metadata": {
    "nbgrader": {
     "grade": false,
     "grade_id": "cell-9ac9c9819fed826b",
     "locked": true,
     "schema_version": 3,
     "solution": false,
     "task": false
    }
   },
   "outputs": [
    {
     "data": {
      "text/plain": [
       "types\n",
       "N    1128561\n",
       "Name: val, dtype: int64"
      ]
     },
     "execution_count": 15,
     "metadata": {},
     "output_type": "execute_result"
    }
   ],
   "source": [
    "df.groupby('types').val.sum().sort_values(ascending = False)"
   ]
  },
  {
   "cell_type": "markdown",
   "id": "df12c056-417d-4fd3-8ec7-a5e8bbb186b5",
   "metadata": {
    "nbgrader": {
     "grade": false,
     "grade_id": "cell-485b27c14486bd4f",
     "locked": true,
     "schema_version": 3,
     "solution": false,
     "task": false
    }
   },
   "source": [
    "However, some of these symbols represent the \"non-beat\" beats and we need to filter them out!\n",
    "\n",
    "For more information about the beat types, please see the links below: \n",
    "\n",
    "https://archive.physionet.org/physiobank/database/html/mitdbdir/tables.htm#testbeats\n",
    "\n",
    "\n",
    "https://archive.physionet.org/physiobank/database/html/mitdbdir/intro.htm#symbols"
   ]
  },
  {
   "cell_type": "code",
   "execution_count": 4,
   "id": "f400442d-8e66-4bf9-81cb-43b623a92579",
   "metadata": {
    "nbgrader": {
     "grade": false,
     "grade_id": "cell-f105f8745e855b18",
     "locked": true,
     "schema_version": 3,
     "solution": false,
     "task": false
    }
   },
   "outputs": [],
   "source": [
    "non_beat = ['[','!',']','x','(',')','p','t','u','`','\\'','^','|','~','+','s','T','*','D','=','\"','@','Q','?'\n",
    "            ,'L','R','V','/','f','F','j','a','E','J','e','S']\n",
    "#abnormal_beat = ['L','R','V','/','A','f','F','j','a','E','J','e','S']\n",
    "\n",
    "afib_beat = ['A']"
   ]
  },
  {
   "cell_type": "markdown",
   "id": "ba28bbf1-a8a3-4929-8935-4e0b8afcee54",
   "metadata": {
    "nbgrader": {
     "grade": false,
     "grade_id": "cell-a09dde940c991715",
     "locked": true,
     "schema_version": 3,
     "solution": false,
     "task": false
    }
   },
   "source": [
    "\n",
    "Create a new column named ``class`` and initilaize it with -1. Then, change the values to 0 if is is ``N`` (normal beat) and to 1 if it is ``afib``. \n"
   ]
  },
  {
   "cell_type": "code",
   "execution_count": 17,
   "id": "3277297d-1b08-4398-9c61-a2259909836e",
   "metadata": {
    "nbgrader": {
     "grade": false,
     "grade_id": "cell-d62ef81b175d6e7f",
     "locked": false,
     "schema_version": 3,
     "solution": true,
     "task": false
    }
   },
   "outputs": [
    {
     "ename": "NameError",
     "evalue": "name 'abnormal_beat' is not defined",
     "output_type": "error",
     "traceback": [
      "\u001b[0;31m---------------------------------------------------------------------------\u001b[0m",
      "\u001b[0;31mNameError\u001b[0m                                 Traceback (most recent call last)",
      "\u001b[0;32m/var/folders/tm/zzwcfn_x7bd81z1rrf1v2dyd_lzzjj/T/ipykernel_7412/2290365378.py\u001b[0m in \u001b[0;36m<module>\u001b[0;34m\u001b[0m\n\u001b[1;32m      3\u001b[0m \u001b[0;31m### BEGIN SOLUTION\u001b[0m\u001b[0;34m\u001b[0m\u001b[0;34m\u001b[0m\u001b[0m\n\u001b[1;32m      4\u001b[0m \u001b[0mdf\u001b[0m\u001b[0;34m.\u001b[0m\u001b[0mloc\u001b[0m\u001b[0;34m[\u001b[0m\u001b[0mdf\u001b[0m\u001b[0;34m.\u001b[0m\u001b[0mtypes\u001b[0m \u001b[0;34m==\u001b[0m \u001b[0;34m'N'\u001b[0m\u001b[0;34m,\u001b[0m\u001b[0;34m'class'\u001b[0m\u001b[0;34m]\u001b[0m \u001b[0;34m=\u001b[0m \u001b[0;36m0\u001b[0m\u001b[0;34m\u001b[0m\u001b[0;34m\u001b[0m\u001b[0m\n\u001b[0;32m----> 5\u001b[0;31m \u001b[0mdf\u001b[0m\u001b[0;34m.\u001b[0m\u001b[0mloc\u001b[0m\u001b[0;34m[\u001b[0m\u001b[0mdf\u001b[0m\u001b[0;34m.\u001b[0m\u001b[0mtypes\u001b[0m\u001b[0;34m.\u001b[0m\u001b[0misin\u001b[0m\u001b[0;34m(\u001b[0m\u001b[0mabnormal_beat\u001b[0m\u001b[0;34m)\u001b[0m\u001b[0;34m,\u001b[0m \u001b[0;34m'class'\u001b[0m\u001b[0;34m]\u001b[0m \u001b[0;34m=\u001b[0m \u001b[0;36m1\u001b[0m\u001b[0;34m\u001b[0m\u001b[0;34m\u001b[0m\u001b[0m\n\u001b[0m\u001b[1;32m      6\u001b[0m \u001b[0;31m### END SOLUTION\u001b[0m\u001b[0;34m\u001b[0m\u001b[0;34m\u001b[0m\u001b[0m\n",
      "\u001b[0;31mNameError\u001b[0m: name 'abnormal_beat' is not defined"
     ]
    }
   ],
   "source": [
    "df['class'] = -1\n",
    "\n",
    "### BEGIN SOLUTION\n",
    "df.loc[df.types == 'N','class'] = 0\n",
    "df.loc[df.types.isin(abnormal_beat), 'class'] = 1\n",
    "### END SOLUTION"
   ]
  },
  {
   "cell_type": "markdown",
   "id": "ab695273-a2c2-40b1-85a2-9d96f8868f29",
   "metadata": {
    "nbgrader": {
     "grade": false,
     "grade_id": "cell-a3429f6fdac5cc55",
     "locked": true,
     "schema_version": 3,
     "solution": false,
     "task": false
    }
   },
   "source": [
    "\n",
    "Load the ECG signal and annotation file for a single patient. The ``read_ecg`` function gets a path to the downloaded dataset and returns the signal values/amplitudes, annotation/label type, and the location of the annotations/labels.\n",
    "\n",
    "sampling frequency of the AFDB ECG records is 250 Hz.\n",
    "\n",
    "\n"
   ]
  },
  {
   "cell_type": "code",
   "execution_count": 11,
   "id": "2d33a020-32c7-47bc-92b1-d330bc419e64",
   "metadata": {
    "nbgrader": {
     "grade": false,
     "grade_id": "cell-15e714d9060684a2",
     "locked": true,
     "schema_version": 3,
     "solution": false,
     "task": false
    }
   },
   "outputs": [],
   "source": [
    "def read_ecg(path):\n",
    "    \n",
    "    # Read ECG signal\n",
    "    record = wfdb.rdrecord(path)\n",
    "    \n",
    "    # Get the ECG signal\n",
    "    ecg_sig = record.p_signal\n",
    "    # Since there are two leads of ECGs for each record, we only select the first lead to work with.\n",
    "    ecg_sig = ecg_sig[:,0]\n",
    "    \n",
    "    # Read corresponding annotation file\n",
    "    #annot = wfdb.rdann(path, 'atr')\n",
    "    \n",
    "    ann = wfdb.rdann(path, 'atr')\n",
    "    QRS = wfdb.rdann(path, 'qrs')\n",
    "   \n",
    "    #get RPeak location (index) \n",
    "    annot_sample = pd.Series(QRS.sample)\n",
    "    \n",
    "    #extract and assign labels to individual beats. \n",
    "    #Needed since beat types are only defined in intervals in .atr file\n",
    "    Symb = pd.Series(ann.symbol)\n",
    "    Samp = pd.Series(ann.sample)\n",
    "    Rhythm = pd.Series(ann.aux_note)    \n",
    "\n",
    "    df1 = pd.DataFrame({'Rpeak': QRS.sample})\n",
    "    df1[\"label\"]=np.nan\n",
    "    ##print(df1.head(10))\n",
    "    df2 = pd.DataFrame({'Rpeak': ann.sample,\"label\": ann.aux_note})\n",
    "    ##print(\"dataframe2\")\n",
    "    ##print(df2.head(10))\n",
    "    newdf = pd.concat([df1,df2], keys = ['1', '2'])\n",
    "    newdf=newdf.sort_index(ascending=False) \n",
    "    #make sure that values from annotation file is on top even if Rpeaks are identical. Important for ffill\n",
    "    newdf=newdf.sort_values(by=['Rpeak'])\n",
    "    #perform forward ffill to get annotation to all Rpeaks in QRS.sample\n",
    "    newdf=newdf.ffill()\n",
    "    #discard all Rpeaks+Annotations from ann.sample. Avoid adding extra or duplicate beats \n",
    "    newdf=newdf.loc[['1']]\n",
    "    \n",
    "    #convert label col to series for further processing \n",
    "    annot_symbol = pd.Series(list(newdf[\"label\"]))\n",
    "    \n",
    "    annot_symbol = annot_symbol.replace('(AFIB', 'A')\n",
    "    annot_symbol = annot_symbol.replace('(N', 'N')\n",
    "    \n",
    "    return ecg_sig, annot_symbol, annot_sample"
   ]
  },
  {
   "cell_type": "code",
   "execution_count": 41,
   "id": "cb89fd22-f5f0-406c-a3a3-e38e11cf76d2",
   "metadata": {
    "nbgrader": {
     "grade": false,
     "grade_id": "cell-ba1c074dbfc9f98d",
     "locked": true,
     "schema_version": 3,
     "solution": false,
     "task": false
    }
   },
   "outputs": [
    {
     "name": "stdout",
     "output_type": "stream",
     "text": [
      "(9205760,)\n"
     ]
    },
    {
     "data": {
      "text/html": [
       "<div>\n",
       "<style scoped>\n",
       "    .dataframe tbody tr th:only-of-type {\n",
       "        vertical-align: middle;\n",
       "    }\n",
       "\n",
       "    .dataframe tbody tr th {\n",
       "        vertical-align: top;\n",
       "    }\n",
       "\n",
       "    .dataframe thead th {\n",
       "        text-align: right;\n",
       "    }\n",
       "</style>\n",
       "<table border=\"1\" class=\"dataframe\">\n",
       "  <thead>\n",
       "    <tr style=\"text-align: right;\">\n",
       "      <th></th>\n",
       "      <th>val</th>\n",
       "    </tr>\n",
       "  </thead>\n",
       "  <tbody>\n",
       "    <tr>\n",
       "      <th>count</th>\n",
       "      <td>3.000000</td>\n",
       "    </tr>\n",
       "    <tr>\n",
       "      <th>mean</th>\n",
       "      <td>20638.333333</td>\n",
       "    </tr>\n",
       "    <tr>\n",
       "      <th>std</th>\n",
       "      <td>24181.208703</td>\n",
       "    </tr>\n",
       "    <tr>\n",
       "      <th>min</th>\n",
       "      <td>25.000000</td>\n",
       "    </tr>\n",
       "    <tr>\n",
       "      <th>25%</th>\n",
       "      <td>7329.500000</td>\n",
       "    </tr>\n",
       "    <tr>\n",
       "      <th>50%</th>\n",
       "      <td>14634.000000</td>\n",
       "    </tr>\n",
       "    <tr>\n",
       "      <th>75%</th>\n",
       "      <td>30945.000000</td>\n",
       "    </tr>\n",
       "    <tr>\n",
       "      <th>max</th>\n",
       "      <td>47256.000000</td>\n",
       "    </tr>\n",
       "  </tbody>\n",
       "</table>\n",
       "</div>"
      ],
      "text/plain": [
       "                val\n",
       "count      3.000000\n",
       "mean   20638.333333\n",
       "std    24181.208703\n",
       "min       25.000000\n",
       "25%     7329.500000\n",
       "50%    14634.000000\n",
       "75%    30945.000000\n",
       "max    47256.000000"
      ]
     },
     "execution_count": 41,
     "metadata": {},
     "output_type": "execute_result"
    }
   ],
   "source": [
    "#path = os.getcwd() + '/data/afdb/' + patients[0]# This reads the first ECG records, which is record number ´00735´\n",
    "path = os.getcwd() + '/data/afdb/' + '04043'\n",
    "ecg_sig, annot_symbol, annot_sample = read_ecg(path)\n",
    "\n",
    "annot_symbol.describe()\n",
    "print(np.shape(ecg_sig))\n",
    "\n",
    "df=pd.DataFrame({'types':[],'val':[], 'patient_id':[]})\n",
    "values, counts = np.unique(annot_symbol, return_counts=True)\n",
    "df1 = pd.DataFrame({'types':values, 'val':counts, 'patient_id':patients[0]*len(counts)})\n",
    "df = pd.concat([df, df1],axis = 0)\n",
    "df.groupby('types').val.sum().sort_values(ascending = False)\n"
   ]
  },
  {
   "cell_type": "code",
   "execution_count": 43,
   "id": "60148502-7f07-4b7f-a24d-7867f5e4bef5",
   "metadata": {},
   "outputs": [],
   "source": [
    "\n",
    "\n",
    "# Read ECG signal\n",
    "record = wfdb.rdrecord(path)\n",
    "    \n",
    "# Get the ECG signal\n",
    "ecg_sig = record.p_signal"
   ]
  },
  {
   "cell_type": "markdown",
   "id": "71359ee2-89c6-475d-a071-a954306f99d9",
   "metadata": {
    "nbgrader": {
     "grade": false,
     "grade_id": "cell-49183c037c641e55",
     "locked": true,
     "schema_version": 3,
     "solution": false,
     "task": false
    }
   },
   "source": [
    "### Filter using 2 consecutive moving median filters to obtain baseline which is the subtracted from raw signal. Used to remove baseline wander\n"
   ]
  },
  {
   "cell_type": "code",
   "execution_count": 22,
   "id": "30b562f8-d0d1-4692-b246-6ad8a8971f71",
   "metadata": {},
   "outputs": [
    {
     "ename": "NameError",
     "evalue": "name 'ecg_sig' is not defined",
     "output_type": "error",
     "traceback": [
      "\u001b[0;31m---------------------------------------------------------------------------\u001b[0m",
      "\u001b[0;31mNameError\u001b[0m                                 Traceback (most recent call last)",
      "\u001b[0;32m/var/folders/tm/zzwcfn_x7bd81z1rrf1v2dyd_lzzjj/T/ipykernel_33734/1083115339.py\u001b[0m in \u001b[0;36m<module>\u001b[0;34m\u001b[0m\n\u001b[1;32m      1\u001b[0m \u001b[0;32mfrom\u001b[0m \u001b[0mscipy\u001b[0m\u001b[0;34m.\u001b[0m\u001b[0msignal\u001b[0m \u001b[0;32mimport\u001b[0m \u001b[0mmedfilt\u001b[0m\u001b[0;34m\u001b[0m\u001b[0;34m\u001b[0m\u001b[0m\n\u001b[1;32m      2\u001b[0m \u001b[0;34m\u001b[0m\u001b[0m\n\u001b[0;32m----> 3\u001b[0;31m \u001b[0mecg_sig1\u001b[0m \u001b[0;34m=\u001b[0m \u001b[0mecg_sig\u001b[0m\u001b[0;34m[\u001b[0m\u001b[0;34m:\u001b[0m\u001b[0;36m1000\u001b[0m\u001b[0;34m]\u001b[0m\u001b[0;34m\u001b[0m\u001b[0;34m\u001b[0m\u001b[0m\n\u001b[0m\u001b[1;32m      4\u001b[0m \u001b[0msampfrq\u001b[0m\u001b[0;34m=\u001b[0m\u001b[0;36m250\u001b[0m\u001b[0;34m\u001b[0m\u001b[0;34m\u001b[0m\u001b[0m\n\u001b[1;32m      5\u001b[0m \u001b[0;34m\u001b[0m\u001b[0m\n",
      "\u001b[0;31mNameError\u001b[0m: name 'ecg_sig' is not defined"
     ]
    }
   ],
   "source": [
    "from scipy.signal import medfilt\n",
    "\n",
    "ecg_sig1 = ecg_sig[:1000]\n",
    "sampfrq=250\n",
    "\n",
    "#Define first window (200ms) - must be odd. therefore subtract 1\n",
    "window200 = int(200*sampfrq/1000)-1 \n",
    "#Define second window (600ms)\n",
    "window600 = int(600*sampfrq/1000)-1\n",
    "med1 = medfilt(ecg_sig1, kernel_size=window200)\n",
    "med2 = medfilt(med1, kernel_size=window600)\n",
    "corr = ecg_sig1-med2\n",
    "\n",
    "##plot result\n",
    "\"\"\"\n",
    "# Create a Figure with 2 rows and 2 columns of subplots:\n",
    "fig, ax = plt.subplots(4, 1)\n",
    "\n",
    "# Index 4 Axes arrays in 4 subplots within 1 Figure: \n",
    "ax[0, 0].plot(ecg_sig1) #row=0, column=0\n",
    "ax[0, 1].plot(med1) #row=1, column=0\n",
    "ax[0, 2].plot(med2) #row=0, column=1\n",
    "ax[0, 4].plot(corr) #row=1, column=1\n",
    "\n",
    "plt.show()\n",
    "\n",
    "\n",
    "\"\"\"\n",
    "\n",
    "plt.subplot(2, 1, 1)\n",
    "plt.title('Raw')\n",
    "plt.plot(ecg_sig1)\n",
    "plt.subplot(2, 1, 2)\n",
    "plt.subplots_adjust(hspace=0.5)\n",
    "plt.title('Corrected')\n",
    "plt.plot(corr, color='red')\n",
    "plt.show()\n"
   ]
  },
  {
   "cell_type": "code",
   "execution_count": 5,
   "id": "46412557-8a24-4f49-ac0e-7b627599275e",
   "metadata": {},
   "outputs": [],
   "source": [
    "#make filter as function to be called pr patient\n",
    "\n",
    "def bw_filt(ecg_sig, sampfrq):\n",
    "    #Define first window (200ms) - must be odd. therefore subtract 1\n",
    "    window200 = int(200*sampfrq/1000)-1 \n",
    "    #Define second window (600ms)\n",
    "    window600 = int(600*sampfrq/1000)-1\n",
    "    med1 = medfilt(ecg_sig, kernel_size=window200)\n",
    "    med2 = medfilt(med1, kernel_size=window600)\n",
    "    corr = ecg_sig-med2\n",
    "    #return corrected signal\n",
    "    return corr\n"
   ]
  },
  {
   "cell_type": "code",
   "execution_count": 6,
   "id": "6fd18826-0408-4474-9252-ac9062127d48",
   "metadata": {},
   "outputs": [],
   "source": [
    "#make lowpass filter function\n",
    "#inspired by https://medium.com/analytics-vidhya/how-to-filter-noise-with-a-low-pass-filter-python-885223e5e9b7\n",
    "\n",
    "from scipy.signal import butter,filtfilt\n",
    "\n",
    "def butter_lowpass_filter(data, cutoff, sampfrq):\n",
    "    # Get the filter coefficients \n",
    "    #order = 2       # sin wave can be approx represented as quadratic\n",
    "    #order = 4 according to https://www.sciencedirect.com/science/article/pii/S0026269219306330\n",
    "    b, a = butter(4, cutoff, btype='low', analog=False, fs=sampfrq)\n",
    "    y = filtfilt(b, a, data)\n",
    "    return y"
   ]
  },
  {
   "cell_type": "markdown",
   "id": "f4ef6924-fc3f-40c9-a90e-79978f6413bc",
   "metadata": {
    "nbgrader": {
     "grade": false,
     "grade_id": "cell-e4eb15448004fda3",
     "locked": true,
     "schema_version": 3,
     "solution": false,
     "task": false
    }
   },
   "source": [
    "Q2. Please complete the ``build_dataset`` function below to make the dataset by ignoring the **non-beats** heartbeats. You will use the ``read_ecg`` function to read each ECG reacords and then extract the single beats as described in the previous cell.\n",
    "\n",
    "**Note:** \n",
    "\n",
    "1. The ``build_dataset`` function gets the list of patients (``patients``), the time interval (``interval``) before and after each heart peak ($\\pm$3 seconds for example), sampling frequency (``fs``), which is 360 Hz for MIT-BIH dataset, and the list of abnormal beats symbols (``abnormal_beat``) as defined earlier.\n",
    "\n",
    "\n",
    "\n",
    "2. The ``build_dataset`` function returns two matrices called ``X`` and ``Y``, which are extracted heartbeats and their coresponding labels (**normal** or **abnormal**), respectively.  It also returns the annotation symbol (``annot_symb``) for each individual extracted beat. It should be mentioned that matrix X rows and columns represent the number of beats and the values of beats (i.e. ``interval`` * ``fs``)."
   ]
  },
  {
   "cell_type": "code",
   "execution_count": 8,
   "id": "d3d13c35-7788-4528-86bc-530f33b25461",
   "metadata": {
    "nbgrader": {
     "grade": false,
     "grade_id": "cell-2b61d2d56fb57ec1",
     "locked": false,
     "schema_version": 3,
     "solution": true,
     "task": false
    }
   },
   "outputs": [],
   "source": [
    "def build_dataset(patients, interval, fs, afib_beat):\n",
    "    \n",
    "    # Initialize the arrays\n",
    "    num_cols = 2 * interval * fs  # This specify the length of the heartbeats to be extracted.\n",
    "    #X = np.zeros((1,num_cols))\n",
    "    #Y = np.zeros((1,1))\n",
    "    X = np.ones((1,num_cols))\n",
    "    Y = np.ones((1,1))\n",
    "    annot_symb = []\n",
    "    ids = []\n",
    "    \"\"\"\n",
    "    df=pd.DataFrame({'types':[],'val':[], 'patient_id':[]})\n",
    "    values, counts = np.unique(annot_symbol, return_counts=True)\n",
    "    df1 = pd.DataFrame({'types':values, 'val':counts, 'patient_id':patients[0]*len(counts)})\n",
    "    \"\"\"\n",
    "    # This list stores the number of extracted heartbeats for each patient.\n",
    "    num_beats = []\n",
    "    \n",
    "    for patient_id in patients:\n",
    "        file_path = os.getcwd() + '/data/afdb/' + patient_id\n",
    "        \n",
    "        ecg_sig, annot_type, annot_sample = read_ecg(file_path)\n",
    "        \n",
    "        # Since there are two leads of ECGs for each record, we only select the first lead to work with.\n",
    "        ##moved further up in preprocess\n",
    "        #ecg_sig = ecg_sig[:,0]\n",
    "        \n",
    "        \n",
    "        #Filter baseline wander\n",
    "        #############\n",
    "        ecg_sig = bw_filt(ecg_sig, fs)\n",
    "        #print(\"ecg_sig shape\")\n",
    "        #print(np.shape(ecg_sig))\n",
    "        \n",
    "        #Apply lowpass filter  at 100Hz\n",
    "        ##**********\n",
    "        ecg_sig = butter_lowpass_filter(ecg_sig, 100, fs)\n",
    "        \n",
    "        # We simply remove the \"non-beats\" beats from the df_annot dataframe and only keep \"normal\" and \"abnormal\" beats.\n",
    "        df_annot = pd.DataFrame({'annot_type':annot_type,\n",
    "                              'annot_sample':annot_sample})\n",
    "        \n",
    "        f.write(f'N before removal is {len(df_annot)}  for id {patient_id}\\n')\n",
    "        #print(df_annot.describe())\n",
    "        \n",
    "        df_annot = df_annot.loc[df_annot.annot_type.isin(afib_beat + ['N'])]\n",
    "        f.write(f'N after removal is {len(df_annot)}  for id {patient_id}\\n')\n",
    "        \n",
    "        #print(df_annot.describe())\n",
    "        \n",
    "        # The \"make_XY\" builds the x and y matrics for each extracted heartbeat\n",
    "        x, y, symbol = make_XY(ecg_sig, df_annot, interval, num_cols, afib_beat)\n",
    "        annot_symb = annot_symb + symbol\n",
    "        num_beats.append(x.shape[0])\n",
    "        X = np.append(X,x,axis = 0)\n",
    "        Y = np.append(Y,y,axis = 0)\n",
    "        id_toappend = []\n",
    "        id_toappend = [patient_id] * len(x)\n",
    "        ids = ids+id_toappend\n",
    "        \n",
    "    # remove top index from both X and Y since these were just used to initialize\n",
    "    X = np.delete(X,0,axis=0)\n",
    "    Y = np.delete(Y,0,axis=0)\n",
    "    \n",
    "    #oneHotEncode y\n",
    "    print(Y[1:10])\n",
    "    encoder = OneHotEncoder(handle_unknown='ignore')\n",
    "    Y = encoder.fit_transform(Y).toarray()\n",
    "    print(Y[1:10])\n",
    "\n",
    "    #transform y to int\n",
    "    print(Y.dtype)\n",
    "    Y = np.rint(Y).astype(int)\n",
    "    print(Y.dtype)\n",
    "    print(Y[1:10])\n",
    "\n",
    "    #confirm that arrays are same length\n",
    "    print(np.shape(ids))   \n",
    "    print(np.shape(X))\n",
    "    print(np.shape(Y))\n",
    "    \n",
    "    return X, Y, annot_symb, ids\n",
    "\n",
    "\n",
    "def make_XY(ecg_sig, df_annot, interval, num_cols, afib_beat):\n",
    "    # this function builds the X,Y matrices for each beat\n",
    "    # it also returns the original symbols for Y\n",
    "    \n",
    "    num_row = len(df_annot)\n",
    "    print(\"new_row\")\n",
    "    print(num_row)\n",
    "\n",
    "    x = np.zeros((num_row, num_cols))\n",
    "    y = np.zeros((num_row,1))\n",
    "    symbol = []\n",
    "    \n",
    "    # count the rows\n",
    "    row_size = 0\n",
    "\n",
    "    for annot_sample, annot_type in zip(df_annot.annot_sample.values, df_annot.annot_type.values):\n",
    "\n",
    "        left = max([0,(annot_sample - interval*fs) ])\n",
    "        right = min([len(ecg_sig),(annot_sample + interval*fs) ])\n",
    "        xx = ecg_sig[left: right]\n",
    "        if len(xx) == num_cols:\n",
    "            x[row_size,:] = xx\n",
    "            y[row_size,:] = int(annot_type in afib_beat)\n",
    "            symbol.append(annot_type)\n",
    "            row_size += 1\n",
    "    x = x[:row_size,:]\n",
    "    y = y[:row_size,:]\n",
    "    return x, y, symbol\n"
   ]
  },
  {
   "cell_type": "code",
   "execution_count": 9,
   "id": "9e83d48f-778c-4822-a7e0-bd86315740ae",
   "metadata": {},
   "outputs": [
    {
     "name": "stdout",
     "output_type": "stream",
     "text": [
      "new_row\n",
      "44005\n",
      "new_row\n",
      "61890\n",
      "new_row\n",
      "39934\n",
      "new_row\n",
      "42860\n",
      "new_row\n",
      "47873\n",
      "new_row\n",
      "61129\n",
      "new_row\n",
      "47323\n",
      "new_row\n",
      "36793\n",
      "new_row\n",
      "49685\n",
      "new_row\n",
      "45534\n",
      "new_row\n",
      "54820\n",
      "new_row\n",
      "34837\n",
      "new_row\n",
      "55163\n",
      "new_row\n",
      "39298\n",
      "new_row\n",
      "60266\n",
      "new_row\n",
      "56587\n",
      "new_row\n",
      "35751\n",
      "new_row\n",
      "43279\n",
      "new_row\n",
      "59293\n",
      "new_row\n",
      "41971\n",
      "new_row\n",
      "58856\n",
      "new_row\n",
      "39850\n",
      "new_row\n",
      "59552\n"
     ]
    }
   ],
   "source": [
    "#patients =['04043','04048'] \n",
    "f = open(\"log.txt\", \"w\")\n",
    "\n",
    "interval =  3\n",
    "fs = 250\n",
    "\n",
    "###use to check with masters exctraction of beats/symbols\n",
    "X, y, annot, ids = build_dataset(patients, interval, fs, afib_beat)\n",
    "\n",
    "f.close()"
   ]
  },
  {
   "cell_type": "code",
   "execution_count": 10,
   "id": "c68d4c94-fea0-4fd6-943a-6c52645e33f5",
   "metadata": {},
   "outputs": [],
   "source": [
    "#np.save(\"data/afdb/dl6/X_BWcorr_LP_filt100.npy\",np.array(X))\n",
    "#np.save(\"data/afdb/dl6/y.npy\",np.array(y))\n",
    "#np.save(\"data/afdb/dl6/annot_data.npy\",np.array(annot))\n"
   ]
  },
  {
   "cell_type": "code",
   "execution_count": null,
   "id": "5a884b9f-5eff-480b-892d-dc3e1cb2b55f",
   "metadata": {},
   "outputs": [],
   "source": [
    "#save dataset w/o lowpass filtering\n",
    "np.save(\"data/afdb/dl6/X_BWcorr.npy\",np.array(X))\n",
    "#np.save(\"data/afdb/dl6/y.npy\",np.array(y))\n",
    "#np.save(\"data/afdb/dl6/annot_data.npy\",np.array(annot))"
   ]
  },
  {
   "cell_type": "code",
   "execution_count": 34,
   "id": "127833a2-86be-412d-960c-a249c3ac06a8",
   "metadata": {},
   "outputs": [],
   "source": [
    "#save dataset w/o filtering\n",
    "np.save(\"data/afdb/dl6/X_raw.npy\",np.array(X))\n",
    "np.save(\"data/afdb/dl6/y.npy\",np.array(y))\n",
    "np.save(\"data/afdb/dl6/ids\",np.array(ids))"
   ]
  },
  {
   "cell_type": "code",
   "execution_count": 29,
   "id": "54ecc3e1-e044-4d18-a503-95926dcef2ba",
   "metadata": {},
   "outputs": [
    {
     "name": "stdout",
     "output_type": "stream",
     "text": [
      "before deleting first line\n",
      "[[ 0.17   0.19   0.16  ... -0.225 -0.205 -0.225]\n",
      " [ 0.16   0.14   0.095 ... -0.12  -0.125 -0.145]\n",
      " [ 0.18   0.16   0.1   ... -0.27  -0.25  -0.23 ]\n",
      " [ 0.29   0.325  0.33  ... -0.29  -0.25  -0.27 ]]\n"
     ]
    }
   ],
   "source": [
    "print('before deleting first line')\n",
    "print(X[0:4])\n",
    "#X=np.delete(X,0,axis=0)\n",
    "#print('efter deleting first line')\n",
    "#print(X[0:4])\n",
    "\n",
    "\n"
   ]
  },
  {
   "cell_type": "code",
   "execution_count": 33,
   "id": "cf848297-094c-4ca7-9cd5-61d6f7cab740",
   "metadata": {},
   "outputs": [
    {
     "name": "stdout",
     "output_type": "stream",
     "text": [
      "(1116465, 1500)\n",
      "(1116465, 1)\n",
      "(1116465,)\n",
      "(1116465,)\n"
     ]
    },
    {
     "data": {
      "text/html": [
       "<div>\n",
       "<style scoped>\n",
       "    .dataframe tbody tr th:only-of-type {\n",
       "        vertical-align: middle;\n",
       "    }\n",
       "\n",
       "    .dataframe tbody tr th {\n",
       "        vertical-align: top;\n",
       "    }\n",
       "\n",
       "    .dataframe thead th {\n",
       "        text-align: right;\n",
       "    }\n",
       "</style>\n",
       "<table border=\"1\" class=\"dataframe\">\n",
       "  <thead>\n",
       "    <tr style=\"text-align: right;\">\n",
       "      <th></th>\n",
       "      <th>types</th>\n",
       "      <th>val</th>\n",
       "    </tr>\n",
       "  </thead>\n",
       "  <tbody>\n",
       "    <tr>\n",
       "      <th>0</th>\n",
       "      <td>0.0</td>\n",
       "      <td>608076</td>\n",
       "    </tr>\n",
       "    <tr>\n",
       "      <th>1</th>\n",
       "      <td>1.0</td>\n",
       "      <td>508389</td>\n",
       "    </tr>\n",
       "  </tbody>\n",
       "</table>\n",
       "</div>"
      ],
      "text/plain": [
       "   types     val\n",
       "0    0.0  608076\n",
       "1    1.0  508389"
      ]
     },
     "execution_count": 33,
     "metadata": {},
     "output_type": "execute_result"
    }
   ],
   "source": [
    "print(np.shape(X))\n",
    "print(np.shape(y))\n",
    "print(np.shape(annot))\n",
    "print(np.shape(ids))\n",
    "\n",
    "df = pd.DataFrame(data = y) \n",
    "values, counts = np.unique(y, return_counts=True)\n",
    "df1 = pd.DataFrame({'types':values, 'val':counts})\n",
    "    \n",
    "df1\n",
    "#'t':values, 'val':counts, 'patient_id':[patient_id]*len(counts)})\n",
    "# df1 = pd.DataFrame({'types':values, 'val':counts, 'patient_id':[patient_id]*len(counts)})\n",
    "#"
   ]
  },
  {
   "cell_type": "code",
   "execution_count": null,
   "id": "45efc185-1c6d-408c-9dff-f055df29c27e",
   "metadata": {},
   "outputs": [
    {
     "name": "stdout",
     "output_type": "stream",
     "text": [
      "(1116465,)\n",
      "(1116465, 1500)\n",
      "(1116465, 1)\n",
      "['08405', '04126', '04015', '05121', '05091', '08219', '04746', '08434', '06426', '06453', '08378', '04043', '05261', '04936', '08455', '06995']\n",
      "['04048', '04908', '07162', '07859', '07879', '07910', '08215']\n"
     ]
    }
   ],
   "source": [
    "\n",
    "import random\n",
    "random.seed(42)\n",
    "\n",
    "try:\n",
    "    del ids\n",
    "    del X\n",
    "    del y\n",
    "except:\n",
    "   pass\n",
    "\n",
    "ids = np.load(\"data/afdb/dl6/ids.npy\")\n",
    "y = np.load(\"data/afdb/dl6/y.npy\")\n",
    "X = np.load(\"data/afdb/dl6/X_raw.npy\")\n",
    "\n",
    "\n",
    "\n",
    "interval =  3\n",
    "fs = 250\n",
    "\n",
    "#confirm that arrays are same length\n",
    "print(np.shape(ids))   \n",
    "print(np.shape(X))\n",
    "print(np.shape(y))\n",
    "\n",
    "df_id = pd.DataFrame({'id':ids})\n",
    "df_x = pd.DataFrame(X)\n",
    "df_y = pd.DataFrame(y)\n",
    "\n",
    "\n",
    "#redundant only to use if not entire notebook is run from start.\n",
    "patients = ['04015','04043','04048','04126','04746','04908',\n",
    "            '04936','05091','05121','05261','06426','06453','06995','07162',\n",
    "            '07859','07879','07910','08215','08219','08378','08405','08434',\n",
    "            '08455']\n",
    "\n",
    "\n",
    "#make test and train split (16/7)\n",
    "pts_train = random.sample(patients, 16)\n",
    "pts_test = [pt for pt in patients if pt not in pts_train]\n",
    "\n",
    "print(pts_train)\n",
    "print(pts_test)\n",
    "\n",
    "X_train = df_x.loc[df_id.id.isin(pts_train)]\n",
    "X_test = df_x.loc[df_id.id.isin(pts_test)]\n",
    "y_train = df_y.loc[df_id.id.isin(pts_train)]\n",
    "y_test = df_y.loc[df_id.id.isin(pts_test)]\n",
    "\n",
    "\n",
    "\"\"\"\n",
    "\n",
    "x_train = np.zeros((1,2*fs*interval))\n",
    "print(np.shape(x_train))\n",
    "\n",
    "toappend = []\n",
    "\n",
    "#id_list = pd.DataFrame({'start': datacompress.index.values})\n",
    "for pt in pts_train:\n",
    "    left = start[pt]\n",
    "    right = end[pt]\n",
    "    #x_train = data_X[left:right]\n",
    "    toappend = data_X[left:right]\n",
    "    #x_train = np.concatenate((x_train, toappend), axis=0)\n",
    "    x_train = np.append(x_train, toappend, axis=0)\n",
    "\n",
    "print(np.shape(toappend))   \n",
    "print(\"shape of dataset after loop is \")\n",
    "print(np.shape(x_train))\n",
    "\n",
    "\"\"\"\n"
   ]
  },
  {
   "cell_type": "markdown",
   "id": "82009af2",
   "metadata": {},
   "source": [
    "https://scikit-learn.org/stable/modules/generated/sklearn.model_selection.GroupKFold.html\n"
   ]
  },
  {
   "cell_type": "code",
   "execution_count": 40,
   "id": "75d468d7-d220-478e-a1d8-e8c445c6c283",
   "metadata": {},
   "outputs": [
    {
     "name": "stdout",
     "output_type": "stream",
     "text": [
      "(780245, 1500)\n"
     ]
    }
   ],
   "source": [
    "print(np.shape(data_train))"
   ]
  },
  {
   "cell_type": "code",
   "execution_count": 12,
   "id": "88c86181",
   "metadata": {},
   "outputs": [
    {
     "name": "stdout",
     "output_type": "stream",
     "text": [
      "new_row\n",
      "44005\n"
     ]
    },
    {
     "ename": "KeyboardInterrupt",
     "evalue": "",
     "output_type": "error",
     "traceback": [
      "\u001b[0;31m---------------------------------------------------------------------------\u001b[0m",
      "\u001b[0;31mKeyboardInterrupt\u001b[0m                         Traceback (most recent call last)",
      "\u001b[0;32m/var/folders/tm/zzwcfn_x7bd81z1rrf1v2dyd_lzzjj/T/ipykernel_41963/2018919056.py\u001b[0m in \u001b[0;36m<module>\u001b[0;34m\u001b[0m\n\u001b[1;32m     12\u001b[0m     \u001b[0mf\u001b[0m\u001b[0;34m.\u001b[0m\u001b[0mwrite\u001b[0m\u001b[0;34m(\u001b[0m\u001b[0;34mf'*****dataset w/ interval length {interval*2} \\n'\u001b[0m\u001b[0;34m)\u001b[0m\u001b[0;34m\u001b[0m\u001b[0;34m\u001b[0m\u001b[0m\n\u001b[1;32m     13\u001b[0m     \u001b[0;31m###use to check with masters exctraction of beats/symbols\u001b[0m\u001b[0;34m\u001b[0m\u001b[0;34m\u001b[0m\u001b[0m\n\u001b[0;32m---> 14\u001b[0;31m     \u001b[0mX\u001b[0m\u001b[0;34m,\u001b[0m \u001b[0my\u001b[0m\u001b[0;34m,\u001b[0m \u001b[0mannot\u001b[0m\u001b[0;34m,\u001b[0m \u001b[0mids\u001b[0m \u001b[0;34m=\u001b[0m \u001b[0mbuild_dataset\u001b[0m\u001b[0;34m(\u001b[0m\u001b[0mpatients\u001b[0m\u001b[0;34m,\u001b[0m \u001b[0minterval\u001b[0m\u001b[0;34m,\u001b[0m \u001b[0mfs\u001b[0m\u001b[0;34m,\u001b[0m \u001b[0mafib_beat\u001b[0m\u001b[0;34m)\u001b[0m\u001b[0;34m\u001b[0m\u001b[0;34m\u001b[0m\u001b[0m\n\u001b[0m\u001b[1;32m     15\u001b[0m \u001b[0;34m\u001b[0m\u001b[0m\n\u001b[1;32m     16\u001b[0m     \u001b[0mpath\u001b[0m\u001b[0;34m=\u001b[0m\u001b[0;34m'data/afdb/dl'\u001b[0m\u001b[0;34m+\u001b[0m\u001b[0mstr\u001b[0m\u001b[0;34m(\u001b[0m\u001b[0minterval\u001b[0m\u001b[0;34m*\u001b[0m\u001b[0;36m2\u001b[0m\u001b[0;34m)\u001b[0m\u001b[0;34m\u001b[0m\u001b[0;34m\u001b[0m\u001b[0m\n",
      "\u001b[0;32m/var/folders/tm/zzwcfn_x7bd81z1rrf1v2dyd_lzzjj/T/ipykernel_41963/1298626722.py\u001b[0m in \u001b[0;36mbuild_dataset\u001b[0;34m(patients, interval, fs, afib_beat)\u001b[0m\n\u001b[1;32m     29\u001b[0m         \u001b[0;31m#Filter baseline wander\u001b[0m\u001b[0;34m\u001b[0m\u001b[0;34m\u001b[0m\u001b[0m\n\u001b[1;32m     30\u001b[0m         \u001b[0;31m#############\u001b[0m\u001b[0;34m\u001b[0m\u001b[0;34m\u001b[0m\u001b[0m\n\u001b[0;32m---> 31\u001b[0;31m         \u001b[0mecg_sig\u001b[0m \u001b[0;34m=\u001b[0m \u001b[0mbw_filt\u001b[0m\u001b[0;34m(\u001b[0m\u001b[0mecg_sig\u001b[0m\u001b[0;34m,\u001b[0m \u001b[0mfs\u001b[0m\u001b[0;34m)\u001b[0m\u001b[0;34m\u001b[0m\u001b[0;34m\u001b[0m\u001b[0m\n\u001b[0m\u001b[1;32m     32\u001b[0m         \u001b[0;31m#print(\"ecg_sig shape\")\u001b[0m\u001b[0;34m\u001b[0m\u001b[0;34m\u001b[0m\u001b[0m\n\u001b[1;32m     33\u001b[0m         \u001b[0;31m#print(np.shape(ecg_sig))\u001b[0m\u001b[0;34m\u001b[0m\u001b[0;34m\u001b[0m\u001b[0m\n",
      "\u001b[0;32m/var/folders/tm/zzwcfn_x7bd81z1rrf1v2dyd_lzzjj/T/ipykernel_41963/4045512947.py\u001b[0m in \u001b[0;36mbw_filt\u001b[0;34m(ecg_sig, sampfrq)\u001b[0m\n\u001b[1;32m      7\u001b[0m     \u001b[0mwindow600\u001b[0m \u001b[0;34m=\u001b[0m \u001b[0mint\u001b[0m\u001b[0;34m(\u001b[0m\u001b[0;36m600\u001b[0m\u001b[0;34m*\u001b[0m\u001b[0msampfrq\u001b[0m\u001b[0;34m/\u001b[0m\u001b[0;36m1000\u001b[0m\u001b[0;34m)\u001b[0m\u001b[0;34m-\u001b[0m\u001b[0;36m1\u001b[0m\u001b[0;34m\u001b[0m\u001b[0;34m\u001b[0m\u001b[0m\n\u001b[1;32m      8\u001b[0m     \u001b[0mmed1\u001b[0m \u001b[0;34m=\u001b[0m \u001b[0mmedfilt\u001b[0m\u001b[0;34m(\u001b[0m\u001b[0mecg_sig\u001b[0m\u001b[0;34m,\u001b[0m \u001b[0mkernel_size\u001b[0m\u001b[0;34m=\u001b[0m\u001b[0mwindow200\u001b[0m\u001b[0;34m)\u001b[0m\u001b[0;34m\u001b[0m\u001b[0;34m\u001b[0m\u001b[0m\n\u001b[0;32m----> 9\u001b[0;31m     \u001b[0mmed2\u001b[0m \u001b[0;34m=\u001b[0m \u001b[0mmedfilt\u001b[0m\u001b[0;34m(\u001b[0m\u001b[0mmed1\u001b[0m\u001b[0;34m,\u001b[0m \u001b[0mkernel_size\u001b[0m\u001b[0;34m=\u001b[0m\u001b[0mwindow600\u001b[0m\u001b[0;34m)\u001b[0m\u001b[0;34m\u001b[0m\u001b[0;34m\u001b[0m\u001b[0m\n\u001b[0m\u001b[1;32m     10\u001b[0m     \u001b[0mcorr\u001b[0m \u001b[0;34m=\u001b[0m \u001b[0mecg_sig\u001b[0m\u001b[0;34m-\u001b[0m\u001b[0mmed2\u001b[0m\u001b[0;34m\u001b[0m\u001b[0;34m\u001b[0m\u001b[0m\n\u001b[1;32m     11\u001b[0m     \u001b[0;31m#return corrected signal\u001b[0m\u001b[0;34m\u001b[0m\u001b[0;34m\u001b[0m\u001b[0m\n",
      "\u001b[0;32m~/opt/anaconda3/lib/python3.9/site-packages/scipy/signal/signaltools.py\u001b[0m in \u001b[0;36mmedfilt\u001b[0;34m(volume, kernel_size)\u001b[0m\n\u001b[1;32m   1536\u001b[0m     \u001b[0mnumels\u001b[0m \u001b[0;34m=\u001b[0m \u001b[0mnp\u001b[0m\u001b[0;34m.\u001b[0m\u001b[0mprod\u001b[0m\u001b[0;34m(\u001b[0m\u001b[0mkernel_size\u001b[0m\u001b[0;34m,\u001b[0m \u001b[0maxis\u001b[0m\u001b[0;34m=\u001b[0m\u001b[0;36m0\u001b[0m\u001b[0;34m)\u001b[0m\u001b[0;34m\u001b[0m\u001b[0;34m\u001b[0m\u001b[0m\n\u001b[1;32m   1537\u001b[0m     \u001b[0morder\u001b[0m \u001b[0;34m=\u001b[0m \u001b[0mnumels\u001b[0m \u001b[0;34m//\u001b[0m \u001b[0;36m2\u001b[0m\u001b[0;34m\u001b[0m\u001b[0;34m\u001b[0m\u001b[0m\n\u001b[0;32m-> 1538\u001b[0;31m     \u001b[0;32mreturn\u001b[0m \u001b[0msigtools\u001b[0m\u001b[0;34m.\u001b[0m\u001b[0m_order_filterND\u001b[0m\u001b[0;34m(\u001b[0m\u001b[0mvolume\u001b[0m\u001b[0;34m,\u001b[0m \u001b[0mdomain\u001b[0m\u001b[0;34m,\u001b[0m \u001b[0morder\u001b[0m\u001b[0;34m)\u001b[0m\u001b[0;34m\u001b[0m\u001b[0;34m\u001b[0m\u001b[0m\n\u001b[0m\u001b[1;32m   1539\u001b[0m \u001b[0;34m\u001b[0m\u001b[0m\n\u001b[1;32m   1540\u001b[0m \u001b[0;34m\u001b[0m\u001b[0m\n",
      "\u001b[0;31mKeyboardInterrupt\u001b[0m: "
     ]
    }
   ],
   "source": [
    "#Generate filtered dataset in loop using different intervals\n",
    "\n",
    "#patients =['04043','04048'] \n",
    "f = open(\"dataset_log.txt\", \"w\")\n",
    "\n",
    "\n",
    "\n",
    "fs = 250\n",
    "intervals = [1,2,3,4,5]\n",
    "\n",
    "for interval in intervals:\n",
    "    f.write(f'*****dataset w/ interval length {interval*2} \\n')\n",
    "    ###use to check with masters exctraction of beats/symbols\n",
    "    X, y, annot, ids = build_dataset(patients, interval, fs, afib_beat)\n",
    "\n",
    "    path='data/afdb/dl'+str(interval*2)\n",
    "\n",
    "    try:\n",
    "        os.mkdir(path)\n",
    "        print('made dir dl'+str(interval*2))\n",
    "    except OSError as error:\n",
    "        pass                \n",
    "\n",
    "    np.save(path+'/X.npy',np.array(X))\n",
    "    np.save(path+'/y.npy',np.array(y))\n",
    "    np.save(path+'/ids',np.array(ids))\n",
    "    np.save(path+'/annot_data.npy',np.array(annot))\n",
    "    f.write('\\n')\n",
    "f.close()"
   ]
  },
  {
   "cell_type": "code",
   "execution_count": null,
   "id": "5753fe55-7f1e-47c4-8acc-cfe05f5ebb6b",
   "metadata": {},
   "outputs": [],
   "source": []
  }
 ],
 "metadata": {
  "kernelspec": {
   "display_name": "Python 3 (ipykernel)",
   "language": "python",
   "name": "python3"
  },
  "language_info": {
   "codemirror_mode": {
    "name": "ipython",
    "version": 3
   },
   "file_extension": ".py",
   "mimetype": "text/x-python",
   "name": "python",
   "nbconvert_exporter": "python",
   "pygments_lexer": "ipython3",
   "version": "3.9.7"
  }
 },
 "nbformat": 4,
 "nbformat_minor": 5
}
